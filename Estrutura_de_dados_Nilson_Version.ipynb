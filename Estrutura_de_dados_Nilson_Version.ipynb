{
  "nbformat": 4,
  "nbformat_minor": 0,
  "metadata": {
    "colab": {
      "provenance": [],
      "toc_visible": true,
      "authorship_tag": "ABX9TyPRLPVS+1CVglUow9qZdJ7V",
      "include_colab_link": true
    },
    "kernelspec": {
      "name": "python3",
      "display_name": "Python 3"
    },
    "language_info": {
      "name": "python"
    }
  },
  "cells": [
    {
      "cell_type": "markdown",
      "metadata": {
        "id": "view-in-github",
        "colab_type": "text"
      },
      "source": [
        "<a href=\"https://colab.research.google.com/github/Davi-Lv/Codigos-Diversos/blob/main/Estrutura_de_dados_Nilson_Version.ipynb\" target=\"_parent\"><img src=\"https://colab.research.google.com/assets/colab-badge.svg\" alt=\"Open In Colab\"/></a>"
      ]
    },
    {
      "cell_type": "markdown",
      "source": [
        "# **Exercício 1 - 09/11/2023**"
      ],
      "metadata": {
        "id": "UxLf2yr1Pn5F"
      }
    },
    {
      "cell_type": "code",
      "execution_count": 8,
      "metadata": {
        "id": "3Xds9kFh8zNl",
        "colab": {
          "base_uri": "https://localhost:8080/"
        },
        "outputId": "f6923aba-244b-4442-ae2a-41f4a1dbfddf"
      },
      "outputs": [
        {
          "output_type": "stream",
          "name": "stdout",
          "text": [
            "O número de tomates na lista é 3\n"
          ]
        }
      ],
      "source": [
        "#Questão 1\n",
        "#Escreva um programa que conte o número de ocorrências de um elemento específico em uma lista.\n",
        "lista = ['tomate','alface','coentro','maça','tomate','beterraba','tomate']\n",
        "numero = 0\n",
        "for i in lista:\n",
        "  if i == 'tomate':\n",
        "    numero += 1\n",
        "print(f\"O número de tomates na lista é {numero}\")"
      ]
    },
    {
      "cell_type": "code",
      "source": [
        "#Questão 2\n",
        "#Escreva um programa que calcule a média dos elementos em uma lista de números inteiros.\n",
        "lista = [12,5,3,5,8,10,15,2]\n",
        "soma = 0\n",
        "quant = len(lista)\n",
        "for numero in lista:\n",
        "  soma = soma + numero\n",
        "  media = soma / quant\n",
        "print(f\"a media dos {quant} digitos é de {media}\")"
      ],
      "metadata": {
        "colab": {
          "base_uri": "https://localhost:8080/"
        },
        "id": "iAuHTXqLP7su",
        "outputId": "f2d959f8-41fd-4f0c-b1f3-1e5724e91872"
      },
      "execution_count": 28,
      "outputs": [
        {
          "output_type": "stream",
          "name": "stdout",
          "text": [
            "a media dos 8 digitos é de 7.5\n"
          ]
        }
      ]
    },
    {
      "cell_type": "code",
      "source": [
        "#Questão 3\n",
        "#Escreva um programa que encontre o maior e o menor elemento em uma lista de números inteiros.\n",
        "lista = [12,5,3,5,8,10,15,2]\n",
        "maior = lista[0]\n",
        "menor = lista[0]\n",
        "\n",
        "for numero in lista:\n",
        "  if numero > maior:\n",
        "    maior = numero\n",
        "  if numero < menor:\n",
        "    menor = numero\n",
        "print(f\"o maior numero da lista é {maior}\")\n",
        "print(f\"o menor numero da lista é {menor}\")"
      ],
      "metadata": {
        "colab": {
          "base_uri": "https://localhost:8080/"
        },
        "id": "CGaKC1nvP7nV",
        "outputId": "3b4a1836-c5b1-42ff-cb60-12d9b813865d"
      },
      "execution_count": 27,
      "outputs": [
        {
          "output_type": "stream",
          "name": "stdout",
          "text": [
            "o maior numero da lista é 15\n",
            "o menor numero da lista é 2\n"
          ]
        }
      ]
    },
    {
      "cell_type": "code",
      "source": [
        "#Questão 4\n",
        "#Escreva um programa que crie uma nova lista contendo apenas os elementos pares de uma lista de números inteiros.\n",
        "\n",
        "lista = [12,5,3,5,8,10,15,2]\n",
        "novaLista = []\n",
        "for numero in lista:\n",
        "  if numero % 2 == 0:\n",
        "    novaLista.append(numero)\n",
        "print(f\"numeros pares da lista: {novaLista}\")"
      ],
      "metadata": {
        "colab": {
          "base_uri": "https://localhost:8080/"
        },
        "id": "qcbHMrZoP7h_",
        "outputId": "a1110be7-5301-49fc-c6b3-041ee5b7ba10"
      },
      "execution_count": 30,
      "outputs": [
        {
          "output_type": "stream",
          "name": "stdout",
          "text": [
            "numeros pares da lista: [12, 8, 10, 2]\n"
          ]
        }
      ]
    },
    {
      "cell_type": "code",
      "source": [
        "#Questão 5\n",
        "\"\"\"\n",
        "Peça ao usuário que insira duas listas de números inteiros separadas por\n",
        "espaços. Em seguida, seu programa deve mesclar as duas listas em uma única lista\n",
        "e, em seguida, classificar essa lista em ordem crescente. Finalmente, exiba a lista classificada.\n",
        "\"\"\"\n",
        "\n",
        "PrimeiraLista = input(\"primeira lista (digite numeros separados por espaços): \")\n",
        "PrimeiraLista = list(map(int, PrimeiraLista.split()))\n",
        "\n",
        "SegundaLista = input(\"lista (digite numeros separados por espaços): \")\n",
        "SegundaLista = list(map(int, SegundaLista.split()))\n",
        "\n",
        "ListaJunta = PrimeiraLista + SegundaLista\n",
        "ListaJunta.sort()\n",
        "\n",
        "print(f\"a junção da lista é {ListaJunta}\")\n"
      ],
      "metadata": {
        "colab": {
          "base_uri": "https://localhost:8080/"
        },
        "id": "k9y9mDz9P7VA",
        "outputId": "8075f488-e566-4ed7-a603-78b4e6f00c14"
      },
      "execution_count": 37,
      "outputs": [
        {
          "output_type": "stream",
          "name": "stdout",
          "text": [
            "primeira lista (digite numeros separados por espaços): 2 3 5 9 4\n",
            "lista (digite numeros separados por espaços): 2 3 9 9 8\n",
            "a junção da lista é [2, 2, 3, 3, 4, 5, 8, 9, 9, 9]\n"
          ]
        }
      ]
    }
  ]
}